{
 "cells": [
  {
   "cell_type": "code",
   "execution_count": 1,
   "id": "b12b73cd",
   "metadata": {},
   "outputs": [
    {
     "name": "stdout",
     "output_type": "stream",
     "text": [
      "{'status': 'error', 'code': 'parameterInvalid', 'message': 'You are trying to request results too far in the past. Your plan permits you to request articles as far back as 2022-12-14, but you have requested 2022-02-27. You may need to upgrade to a paid plan.'}\n"
     ]
    }
   ],
   "source": [
    "import requests\n",
    "\n",
    "def get_weather(city, units='metric', api_key='8e984d161fa05fec944b43b48745f21b'):\n",
    "  url = f\"http://api.openweathermap.org/data/2.5/forecast?q={city}&appid={api_key}&units={units}\"\n",
    "  r = requests.get(url)\n",
    "  content = r.json()\n",
    "  with open('data.txt', 'a') as file:\n",
    "    for dicty in content['list']:\n",
    "      file.write(f\"{dicty['dt_txt']}, {dicty['main']['temp']}, {dicty['weather'][0]['description']}\\n\")\n",
    "\n",
    "print(get_weather(city='Washington'))"
   ]
  }
 ],
 "metadata": {
  "kernelspec": {
   "display_name": "Python 3 (ipykernel)",
   "language": "python",
   "name": "python3"
  },
  "language_info": {
   "codemirror_mode": {
    "name": "ipython",
    "version": 3
   },
   "file_extension": ".py",
   "mimetype": "text/x-python",
   "name": "python",
   "nbconvert_exporter": "python",
   "pygments_lexer": "ipython3",
   "version": "3.9.13"
  }
 },
 "nbformat": 4,
 "nbformat_minor": 5
}
